{
  "cells": [
    {
      "cell_type": "markdown",
      "metadata": {},
      "source": [
        "# Train Hit Probability Model v1",
        "This notebook will train and save the hit-prob model to model_assets/model_v1.pkl"
      ]
    },
    {
      "cell_type": "code",
      "metadata": {},
      "source": [
        "from code_utils_model_v1 import train_hit_prob, predict_hit_prob",
        "# df = pd.read_csv('data/raw/statcast_with_parks.csv')",
        "# model_path = train_hit_prob(df)",
        "# preds = predict_hit_prob(df, model_path)"
      ]
    }
  ],
  "metadata": {},
  "nbformat": 4,
  "nbformat_minor": 5
}